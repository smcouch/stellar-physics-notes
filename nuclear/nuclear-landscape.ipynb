{
 "cells": [
  {
   "cell_type": "markdown",
   "metadata": {},
   "source": [
    "#Exploring the nuclear landscape\n",
    "Here we'll implement a simple liquid drop model.  The coefficients were obtained from an online fitting tool that was part of the UNEDF SciDAC; unfortunately, that site no longer exists.\n",
    "\n",
    "First, we'll set up our workspace."
   ]
  },
  {
   "cell_type": "code",
   "execution_count": 1,
   "metadata": {
    "collapsed": false
   },
   "outputs": [],
   "source": [
    "from __future__ import division, print_function\n",
    "%matplotlib inline\n",
    "import numpy as np\n",
    "import matplotlib.pyplot as plt"
   ]
  },
  {
   "cell_type": "markdown",
   "metadata": {},
   "source": [
    "We'll then define a class that holds our simple liquid-drop expression with 5 parameters (volume, surface, asymmetry, couloumb, and pairing).  This class will compute the binding energy (`BE`), the binding energy per nucleon (`BEper`), and the proton-separation, neutron-separation, two-proton-separation, and two-neutron-separation energies (`Sp`, `Sn`, `S2p`, `S2n`)."
   ]
  },
  {
   "cell_type": "code",
   "execution_count": 37,
   "metadata": {
    "collapsed": false
   },
   "outputs": [],
   "source": [
    "class nuclearDrop:\n",
    "    def __init__(self,aV=-15.67,aS=17.04,aA=23.09,aC=0.71,aP=-14.55):\n",
    "        self.aV = aV\n",
    "        self.aS = aS\n",
    "        self.aA = aA\n",
    "        self.aC = aC\n",
    "        self.aP = aP\n",
    "    \n",
    "    def delta(self,Z,N):\n",
    "        \"\"\"\n",
    "        Computes the pairing term: +1 for even-even, -1 for odd-odd, 0 otherwise\n",
    "        Z, N are either both scaler or both array-like.\n",
    "        \"\"\"\n",
    "        # scalar check\n",
    "        if (np.isscalar(Z)):\n",
    "            if (Z%2 == 0 and N%2 == 0):\n",
    "                d = 1\n",
    "            elif (Z%2 == 0 or N%2 == 0):\n",
    "                d = 0\n",
    "            else:\n",
    "                d = -1\n",
    "        else:\n",
    "            d = np.zeros(len(Z))\n",
    "            d[np.where((Z%2 == 0) & (N%2 == 0))] = 1\n",
    "            d[np.where((Z%2 != 0) & (N%2 != 0))] = -1\n",
    "        return d\n",
    "    \n",
    "    def BE(self,Z,N):\n",
    "        \"\"\"\n",
    "        Binding energy\n",
    "        \"\"\"\n",
    "        A = Z+N\n",
    "        A13 = A**(1/3)\n",
    "        A23 = A**(2/3)\n",
    "        aV, aS, aA, aC, aP = self.aV, self.aS, self.aA, self.aC, self.aP\n",
    "        \n",
    "        return -(aV*A + aS*A23 + aA*(N-Z)**2/A + aC*Z**2/A13 + aP*self.delta(Z,N)/A**(1/2))\n",
    "    \n",
    "    def BEper(self,Z,N):\n",
    "        \"\"\"\n",
    "        Binding energy per nucleon\n",
    "        \"\"\"\n",
    "        return self.BE(Z,N)/(Z+N)\n",
    "\n",
    "    def dBE(self,Z,N,dZ,dN):\n",
    "        return self.BE(Z,N)-self.BE(Z-dZ,N-dN)\n",
    "    \n",
    "    def Sp(self,Z,N):\n",
    "        \"\"\"\n",
    "        Proton separation energy\n",
    "        \"\"\"\n",
    "        return self.dBE(Z,N,1,0)\n",
    "    \n",
    "    def Sn(self,Z,N):\n",
    "        \"\"\"\n",
    "        Neutron separation energy\n",
    "        \"\"\"\n",
    "        return self.dBE(Z,N,0,1)\n",
    "    \n",
    "    def S2p(self,Z,N):\n",
    "        \"\"\"\n",
    "        Two proton separation energy\n",
    "        \"\"\"\n",
    "        return self.dBE(Z,N,-2,0)\n",
    "    \n",
    "    def S2n(self,Z,N):\n",
    "        \"\"\"\n",
    "        Two neutron separation energy\n",
    "        \"\"\"\n",
    "        return self.dBE(Z,N,0,-2)"
   ]
  },
  {
   "cell_type": "markdown",
   "metadata": {},
   "source": [
    "Sometimes it is useful to ignore pairing. For convenience, we'll extend this class using a 4 parameter fit.  Our new class, `nuclearDropNoPairing`, inherits all the functions of the 5-parameter model.  In addition, because the fit is now a differentiable function of $N$ and $Z$ we can find the $Z$ that maximizes the binding energy for fixed $A$:\n",
    "\\begin{equation}\n",
    "    \\left.\\frac{d(BE)}{dZ}\\right|_A = -4a_A\\frac{(A-2Z)}{A} + 2a_C \\frac{Z}{A^{1/3}}.\n",
    "\\end{equation}\n",
    "Setting the derivative to 0 and solving for $Z$ gives\n",
    "\\begin{equation}\n",
    "    Z_\\star = \\frac{A}{2}\\left(1 + \\frac{a_C}{4a_A}A^{2/3}\\right)^{-1}\n",
    "\\end{equation}\n",
    "We'll implement this function in the class as well."
   ]
  },
  {
   "cell_type": "code",
   "execution_count": 38,
   "metadata": {
    "collapsed": false
   },
   "outputs": [],
   "source": [
    "class nuclearDropNoPairing(nuclearDrop):\n",
    "    def __init__(self,aV=-15.5,aS=16.6,aA=22.7,aC=0.71):\n",
    "        nuclearDrop.__init__(self,aV=aV,aS=aS,aA=aA,aC=aC,aP=0.0)\n",
    "\n",
    "    def Zstar(self,A):\n",
    "        \"\"\"\n",
    "        Charge number Z s.t. the binding energy is minized for a given A.\n",
    "        A can either be a scalar or array-like.\n",
    "        \"\"\"\n",
    "        ZS = 0.5*A/(1.0+0.25*self.aC*A**(2/3)/self.aA)\n",
    "        return np.round(ZS)"
   ]
  },
  {
   "cell_type": "markdown",
   "metadata": {},
   "source": [
    "## Some examples"
   ]
  },
  {
   "cell_type": "code",
   "execution_count": 50,
   "metadata": {
    "collapsed": false
   },
   "outputs": [
    {
     "name": "stdout",
     "output_type": "stream",
     "text": [
      "BE/A(56Fe) =  8.893 (pairing);  8.805 (no pairing) 6.306950682183002\n"
     ]
    },
    {
     "data": {
      "text/plain": [
       "<matplotlib.text.Text at 0x115930828>"
      ]
     },
     "execution_count": 50,
     "metadata": {},
     "output_type": "execute_result"
    },
    {
     "data": {
      "image/png": "[encoded data removed]",
      "text/plain": [
       "<matplotlib.figure.Figure at 0x115a154e0>"
      ]
     },
     "metadata": {},
     "output_type": "display_data"
    }
   ],
   "source": [
    "ld = nuclearDrop()\n",
    "ldnp = nuclearDropNoPairing()\n",
    "print('BE/A(56Fe) = {0:6.3f} (pairing); {1:6.3f} (no pairing)'.\\\n",
    "      format(ld.BEper(26,30),ldnp.BEper(26,30)),ld.BEper(2,2))\n",
    "A = np.arange(20,200)\n",
    "Zs = ldnp.Zstar(A)\n",
    "Ns = A-Zs\n",
    "plt.plot(Ns,Zs,'k.')\n",
    "plt.xlabel('N')\n",
    "plt.ylabel('Z')"
   ]
  },
  {
   "cell_type": "code",
   "execution_count": 73,
   "metadata": {
    "collapsed": false
   },
   "outputs": [
    {
     "data": {
      "text/plain": [
       "7.646749846198787"
      ]
     },
     "execution_count": 73,
     "metadata": {},
     "output_type": "execute_result"
    }
   ],
   "source": [
    "ld.BEper(6,6)"
   ]
  },
  {
   "cell_type": "code",
   "execution_count": 67,
   "metadata": {},
   "outputs": [
    {
     "data": {
      "text/plain": [
       "1641.5097663608929"
      ]
     },
     "execution_count": 67,
     "metadata": {},
     "output_type": "execute_result"
    }
   ],
   "source": [
    "ld.BE(82,126)"
   ]
  },
  {
   "cell_type": "code",
   "execution_count": 66,
   "metadata": {},
   "outputs": [
    {
     "data": {
      "text/plain": [
       "16.077589968189415"
      ]
     },
     "execution_count": 66,
     "metadata": {},
     "output_type": "execute_result"
    }
   ],
   "source": [
    "-3*ld.BE(2,2)+ld.BE(6,6)"
   ]
  },
  {
   "cell_type": "code",
   "execution_count": null,
   "metadata": {},
   "outputs": [],
   "source": []
  },
  {
   "cell_type": "code",
   "execution_count": null,
   "metadata": {},
   "outputs": [],
   "source": []
  }
 ],
 "metadata": {
  "kernelspec": {
   "display_name": "Python 3",
   "language": "python",
   "name": "python3"
  },
  "language_info": {
   "codemirror_mode": {
    "name": "ipython",
    "version": 3
   },
   "file_extension": ".py",
   "mimetype": "text/x-python",
   "name": "python",
   "nbconvert_exporter": "python",
   "pygments_lexer": "ipython3",
   "version": "3.6.1"
  }
 },
 "nbformat": 4,
 "nbformat_minor": 2
}
